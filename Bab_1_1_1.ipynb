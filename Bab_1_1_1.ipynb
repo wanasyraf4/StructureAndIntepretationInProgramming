{
  "nbformat": 4,
  "nbformat_minor": 0,
  "metadata": {
    "colab": {
      "provenance": [],
      "authorship_tag": "ABX9TyNX6a5Rniz+o3bVHQAyw5gH",
      "include_colab_link": true
    },
    "kernelspec": {
      "name": "python3",
      "display_name": "Python 3"
    },
    "language_info": {
      "name": "python"
    }
  },
  "cells": [
    {
      "cell_type": "markdown",
      "metadata": {
        "id": "view-in-github",
        "colab_type": "text"
      },
      "source": [
        "<a href=\"https://colab.research.google.com/github/wanasyraf4/StructureAndIntepretationInProgramming/blob/main/Bab_1_1_1.ipynb\" target=\"_parent\"><img src=\"https://colab.research.google.com/assets/colab-badge.svg\" alt=\"Open In Colab\"/></a>"
      ]
    },
    {
      "cell_type": "markdown",
      "source": [
        "# Bab 1 - Membina-Abstraksi-Dengan-Fungsi"
      ],
      "metadata": {
        "id": "ud60K9cdadzv"
      }
    },
    {
      "cell_type": "markdown",
      "source": [
        "**1.1 Pengenalan**\n",
        "\n",
        "Sains komputer adalah disiplin akademik yang sangat luas. Bidang sistem yang diedarkan secara global, kecerdasan buatan, robotik, grafik, keselamatan, pengkomputeran saintifik, seni bina komputer, dan berpuluh-puluh subbidang yang baru muncul, masing-masing berkembang dengan teknik dan penemuan baharu setiap tahun. Kemajuan pesat sains komputer menyebabkan beberapa aspek kehidupan manusia tidak terjejas. Perdagangan, komunikasi, sains, seni, masa lapang dan politik semuanya telah dicipta semula sebagai domain pengiraan.\n",
        "\n",
        "Produktiviti luar biasa sains komputer hanya mungkin kerana ia dibina di atas set idea asas yang elegan dan berkuasa. Semua pengkomputeran bermula dengan mewakili maklumat, menentukan logik untuk memprosesnya, dan mereka bentuk abstraksi yang menguruskan kerumitan logik itu. Menguasai asas ini memerlukan kita memahami dengan tepat bagaimana komputer mentafsir program komputer dan menjalankan proses pengiraan.\n",
        "\n",
        "Idea asas ini telah lama diajar di Berkeley menggunakan buku teks klasik \"Structure and Interpretation of Computer Programs (SICP)\" oleh Harold Abelson dan Gerald Jay Sussman dengan Julie Sussman. Nota kuliah ini banyak meminjam daripada buku teks itu, yang telah dilesenkan oleh pengarang asal untuk disesuaikan dan digunakan semula.\n",
        "\n",
        "Pemulaan perjalanan intelektual kita tidak memerlukan semakan, dan kita juga tidak boleh mengharapkan bahawa ia akan berlaku.\n",
        "\n",
        ">Kita akan mengkaji idea tentang proses pengiraan. Proses pengiraan adalah makhluk abstrak yang mendiami komputer. Semasa mereka berkembang, proses memanipulasi perkara abstrak lain yang dipanggil data. Evolusi proses diarahkan oleh corak peraturan yang dipanggil program. Orang membuat program untuk mengarahkan proses. Sebenarnya, kita memanggil semangat komputer dengan mantera kami.\n",
        ">\n",
        ">Program yang kami gunakan untuk menyulap proses adalah seperti jampi ahli sihir. Ia disusun dengan teliti daripada ungkapan simbolik dalam bahasa pengaturcaraan misteri dan esoterik yang menetapkan tugas yang kita mahu proses kita lakukan.\n",
        ">\n",
        ">Proses pengiraan, dalam komputer yang berfungsi dengan betul, melaksanakan program dengan tepat dan tepat. Oleh itu, seperti perantis ahli sihir, pengaturcara baru mesti belajar memahami dan menjangka akibat daripada sihir mereka.\n",
        "\n",
        "— Abelson dan Sussman, SICP (1993)"
      ],
      "metadata": {
        "id": "s5L8b629aqDK"
      }
    },
    {
      "cell_type": "markdown",
      "source": [
        "**1.1.1 Pengaturcaraan dalam Python**\n",
        "\n",
        ">Bahasa bukanlah sesuatu yang anda pelajari melainkan sesuatu yang anda sertai.\n",
        ">\n",
        "—Arika Okrent"
      ],
      "metadata": {
        "id": "sBtBw73AcUyv"
      }
    },
    {
      "cell_type": "markdown",
      "source": [
        "Untuk menentukan proses pengiraan, kita memerlukan bahasa pengaturcaraan; sebaiknya satu ramai manusia dan pelbagai jenis komputer semua boleh faham. Dalam kursus ini, kita akan mempelajari bahasa Python.\n",
        "\n",
        "Python ialah bahasa pengaturcaraan yang digunakan secara meluas yang telah merekrut peminat dari banyak profesion: pengaturcara web, jurutera permainan, saintis, ahli akademik, dan juga pereka bahasa pengaturcaraan baharu. Apabila anda mempelajari Python, anda menyertai komuniti pembangun yang mempunyai sejuta orang. Komuniti pembangun ialah institusi yang sangat penting: ahli membantu antara satu sama lain menyelesaikan masalah, berkongsi kod dan pengalaman mereka serta membangunkan perisian dan alatan secara kolektif. Ahli yang berdedikasi sering mencapai selebriti dan penghargaan yang meluas untuk sumbangan mereka. Mungkin suatu hari nanti anda akan dinamakan antara Pythonista elit ini.\n",
        "\n",
        "Bahasa Python itu sendiri adalah hasil daripada komuniti sukarelawan besar yang berbangga dengan kepelbagaian penyumbangnya. Bahasa ini diilhamkan dan pertama kali dilaksanakan oleh Guido van Rossum pada akhir 1980-an. Bab pertama Tutorial Python 3 beliau menerangkan mengapa Python begitu popular, antara banyak bahasa yang tersedia hari ini.\n",
        "\n",
        "Python cemerlang sebagai bahasa pengajaran kerana, sepanjang sejarahnya, pembangun Python telah menekankan kebolehtafsiran manusia bagi kod Python, diperkukuh oleh prinsip panduan Zen of Python tentang kecantikan, kesederhanaan dan kebolehbacaan. Python amat sesuai untuk kursus ini kerana set ciri yang luas menyokong pelbagai gaya pengaturcaraan yang berbeza, yang akan kami terokai. Walaupun tiada satu cara untuk memprogramkan dalam Python, terdapat satu set konvensyen yang dikongsi di seluruh komuniti pembangun yang memudahkan proses membaca, memahami dan melanjutkan program sedia ada. Oleh itu, gabungan fleksibiliti dan kebolehcapaian yang hebat Python membolehkan pelajar meneroka banyak paradigma pengaturcaraan, dan kemudian menggunakan pengetahuan yang baru diperoleh mereka kepada beribu-ribu projek yang sedang berjalan.\n",
        "\n",
        "Nota ini mengekalkan semangat SICP dengan memperkenalkan ciri Python dalam langkah kunci dengan teknik untuk reka bentuk abstrak dan model pengiraan yang ketat. Di samping itu, nota ini menyediakan pengenalan praktikal kepada pengaturcaraan Python, termasuk beberapa ciri bahasa lanjutan dan contoh ilustrasi. Pembelajaran Python akan datang secara semula jadi semasa anda maju melalui kursus.\n",
        "\n",
        "Walau bagaimanapun, Python ialah bahasa yang kaya dengan banyak ciri dan kegunaan, dan kami secara sedar memperkenalkannya perlahan-lahan sambil kami melapisi konsep asas sains komputer. Bagi pelajar berpengalaman yang ingin menyedut semua butiran bahasa dengan cepat, kami mengesyorkan membaca buku Mark Pilgrim Dive Into Python 3, yang boleh didapati secara percuma dalam talian. Topik dalam buku itu berbeza dengan ketara daripada topik kursus ini, tetapi buku itu mengandungi maklumat praktikal yang sangat berharga tentang penggunaan bahasa Python. Beri amaran: tidak seperti nota ini, Dive Into Python 3 menganggap pengalaman pengaturcaraan yang besar.\n",
        "\n",
        "Cara terbaik untuk memulakan pengaturcaraan dalam Python ialah berinteraksi dengan penterjemah secara langsung. Bahagian ini menerangkan cara memasang Python 3, memulakan sesi interaktif dengan penterjemah dan memulakan pengaturcaraan."
      ],
      "metadata": {
        "id": "TAaU9hRycpNC"
      }
    },
    {
      "cell_type": "markdown",
      "source": [
        "**1.1.2 Memasang Python 3**\n",
        "\n",
        "Seperti semua perisian hebat, Python mempunyai banyak versi. Kursus ini akan menggunakan versi stabil terkini Python 3 (kini Python 3.2). Banyak komputer telah memasang versi lama Python, tetapi itu tidak mencukupi untuk kursus ini. Anda sepatutnya boleh menggunakan mana-mana komputer untuk kursus ini, tetapi harapkan untuk memasang Python 3. Jangan risau, Python adalah percuma.\n",
        "\n",
        "Dive Into Python 3 mempunyai arahan pemasangan terperinci untuk semua platform utama. Arahan ini menyebut Python 3.1 beberapa kali, tetapi anda lebih baik menggunakan Python 3.2 (walaupun perbezaannya tidak ketara untuk kursus ini). Semua mesin pengajaran di jabatan EECS telah dipasang Python 3.2."
      ],
      "metadata": {
        "id": "t9JHKV6HeE8n"
      }
    },
    {
      "cell_type": "markdown",
      "source": [
        "**1.1.3 Sesi Interaktif**\n",
        "\n",
        "Dalam sesi Python interaktif, anda menaip beberapa kod Python selepas gesaan, `>>>`. Jurubahasa Python membaca dan menilai perkara yang anda taip, melaksanakan pelbagai arahan anda.\n",
        "\n",
        "Terdapat beberapa cara untuk memulakan sesi interaktif, dan ia berbeza dalam sifatnya. Cuba semuanya untuk mengetahui apa yang anda suka. Mereka semua menggunakan penterjemah yang sama di belakang tabir.\n",
        "\n",
        "* Cara paling mudah dan paling biasa ialah menjalankan aplikasi Python 3. Taip python3 pada gesaan terminal (Mac/Unix/Linux) atau buka aplikasi Python 3 dalam Windows.\n",
        "\n",
        "* Aplikasi yang lebih mesra pengguna untuk mereka yang mempelajari bahasa dipanggil Idle 3 `(idle3)`. Terbiar mewarnakan kod anda (dipanggil penyerlahan sintaks), muncul petunjuk penggunaan dan menandakan punca beberapa ralat. Idle sentiasa digabungkan dengan Python, jadi anda telah pun memasangnya.\n",
        "\n",
        "* Editor Emacs boleh menjalankan sesi interaktif di dalam salah satu penimbalnya. Walaupun sedikit lebih mencabar untuk dipelajari, Emacs ialah editor yang berkuasa dan serba boleh untuk mana-mana bahasa pengaturcaraan. Baca Tutorial 61A Emacs untuk bermula. Ramai pengaturcara yang meluangkan masa untuk mempelajari Emac tidak pernah menukar editor lagi.\n",
        "\n",
        "Walau apa pun, jika anda melihat gesaan Python, `>>>`, maka anda telah berjaya memulakan sesi interaktif. Nota ini menggambarkan contoh interaksi menggunakan gesaan, diikuti dengan beberapa input."
      ],
      "metadata": {
        "id": "W_4RV7TfeygU"
      }
    },
    {
      "cell_type": "code",
      "execution_count": null,
      "metadata": {
        "id": "yhZTKzcIaZEO"
      },
      "outputs": [],
      "source": [
        "2+2"
      ]
    },
    {
      "cell_type": "markdown",
      "source": [
        "**Kawalan:** Setiap sesi menyimpan sejarah perkara yang telah anda taip. Untuk mengakses sejarah itu, tekan <Control>-P (sebelumnya) dan <Control>-N (next). <Control>-D keluar dari sesi, yang membuang sejarah ini."
      ],
      "metadata": {
        "id": "8igwHo3NfY3S"
      }
    },
    {
      "cell_type": "markdown",
      "source": [
        "**1.1.3 Contoh Pertama**\n",
        "\n",
        ">Dan, sebagai badan imaginasi keluarBentuk-bentuk benda yang tidak diketahui, dan pena penyairMengubahnya menjadi bentuk, dan memberi kepada apa-apa yang lapangSebuah kediaman dan nama tempatan.\n",
        ">\n",
        ">— William Shakespeare, Impian Pertengahan Musim Panas\n",
        "\n",
        "Untuk memberikan Python pengenalan yang sepatutnya, kita akan mulakan dengan contoh yang menggunakan beberapa ciri bahasa. Dalam bahagian seterusnya, kita perlu bermula dari awal dan membina sepotong demi sepotong bahasa. Fikirkan bahagian ini sebagai pratonton ringkas ciri berkuasa yang akan datang.\n",
        "\n",
        "Python mempunyai sokongan terbina dalam untuk pelbagai aktiviti pengaturcaraan biasa, seperti memanipulasi teks, memaparkan grafik dan berkomunikasi melalui Internet. Penyata import"
      ],
      "metadata": {
        "id": "ZZNIrE9Gf1e1"
      }
    },
    {
      "cell_type": "code",
      "source": [
        "from urllib.request import urlopen"
      ],
      "metadata": {
        "id": "d53U3oScgI8-"
      },
      "execution_count": null,
      "outputs": []
    },
    {
      "cell_type": "markdown",
      "source": [
        "loads functionality for accessing data on the Internet. In particular, it makes available a function called urlopen, which can access the content at a uniform resource locator (URL), which is a location of something on the Internet"
      ],
      "metadata": {
        "id": "v7No-IBTgF4O"
      }
    },
    {
      "cell_type": "markdown",
      "source": [
        "**Kenyataan (Statement) & Ungkapan (Expression)** \n",
        "\n",
        "Kod Python terdiri daripada pernyataan dan ungkapan. Secara umumnya, program komputer terdiri daripada arahan sama ada\n",
        "\n",
        "1. Kira beberapa nilai\n",
        "2. Lakukan beberapa tindakan\n",
        "\n",
        "Pernyataan biasanya menerangkan tindakan. Apabila penterjemah Python melaksanakan pernyataan, ia menjalankan tindakan yang sepadan. Sebaliknya, ungkapan biasanya menerangkan pengiraan yang menghasilkan nilai. Apabila Python menilai ungkapan, ia mengira nilainya. Bab ini memperkenalkan beberapa jenis pernyataan dan ungkapan.\n",
        "\n",
        "Pernyataan tugasan:"
      ],
      "metadata": {
        "id": "e3JKzfYdgN7l"
      }
    },
    {
      "cell_type": "code",
      "source": [
        "shakespeare = urlopen('http://inst.eecs.berkeley.edu/~cs61a/fa11/shakespeare.txt')"
      ],
      "metadata": {
        "id": "9sOgNwbvgjzV"
      },
      "execution_count": null,
      "outputs": []
    },
    {
      "cell_type": "markdown",
      "source": [
        "mengaitkan nama `shakespeare` dengan nilai ungkapan yang berikut. Ungkapan itu menggunakan fungsi urlopen pada URL yang mengandungi teks lengkap 37 drama William Shakespeare, semuanya dalam satu dokumen teks."
      ],
      "metadata": {
        "id": "KwZJ8815gdgM"
      }
    },
    {
      "cell_type": "markdown",
      "source": [
        "**Fungsi. (Function)** \n",
        "\n",
        "Fungsi merangkum logik yang memanipulasi data. Alamat web ialah sejumlah data, malah teks drama Shakespeare adalah data juga. Proses yang mana yang pertama membawa kepada yang kedua mungkin rumit, tetapi kita boleh menggunakan proses itu hanya menggunakan ungkapan mudah kerana kerumitan itu tersimpan dalam fungsi. Fungsi ialah topik utama bab ini."
      ],
      "metadata": {
        "id": "UYgsGmEuh8EY"
      }
    },
    {
      "cell_type": "markdown",
      "source": [
        "Kenyataan tugasan lain:"
      ],
      "metadata": {
        "id": "jv0AvcLikaeG"
      }
    },
    {
      "cell_type": "code",
      "source": [
        "words = set(shakespeare.read().decode().split())"
      ],
      "metadata": {
        "id": "judbJ7eIiJH4"
      },
      "execution_count": null,
      "outputs": []
    },
    {
      "cell_type": "markdown",
      "source": [
        "Kenyataan `words` mengaitkan semua set `words` unik yang muncul dalam drama Shakespeare, dimana kesemuanya adalah 33,721. Rangkaian arahan untuk membaca (`read`), menyahkod (`decode`) dan memisahkan (`split`), masing-masing beroperasi pada entiti pengiraan perantaraan: data dibaca daripada URL yang dibuka, data itu dinyahkodkan menjadi teks dan teks itu dipecah menjadi perkataan. Semua `words` diletakkan di dalam satu `set`."
      ],
      "metadata": {
        "id": "BiaqKFNWiNMI"
      }
    },
    {
      "cell_type": "markdown",
      "source": [
        "**Objek. (Object)** \n",
        "\n",
        "Set ialah sejenis objek, yang menyokong operasi set seperti pengkomputeran persimpangan dan menguji keahlian. Objek dengan lancar menggabungkan data dan logik yang memanipulasi data itu, dengan cara yang menyembunyikan kerumitan kedua-duanya. Objek adalah topik utama Bab 2.\n",
        "\n",
        "Sebagai contoh, ekspresi\n"
      ],
      "metadata": {
        "id": "LFxfXcrhk8p_"
      }
    },
    {
      "cell_type": "code",
      "source": [
        "{w for w in words if len(w) >= 5 and w[::-1] in words}\n",
        "{'madam', 'stink', 'leets', 'rever', 'drawer', 'stops', 'sessa',\n",
        "'repaid', 'speed', 'redder', 'devil', 'minim', 'spots', 'asses',\n",
        "'refer', 'lived', 'keels', 'diaper', 'sleek', 'steel', 'leper',\n",
        "'level', 'deeps', 'repel', 'reward', 'knits'}"
      ],
      "metadata": {
        "id": "bpzJZ-vxlAUo"
      },
      "execution_count": null,
      "outputs": []
    },
    {
      "cell_type": "markdown",
      "source": [
        "ialah ungkapan majmuk yang menilai kepada set perkataan Shakespearian yang muncul di hadapan dan di belakang. Notasi samar `w[::-1]` menyenaraikan setiap huruf dalam perkataan, tetapi `-1` mengatakan untuk berundur ke belakang (`::`) di sini bermakna kedudukan aksara pertama dan terakhir untuk menghitung adalah lalai.) Apabila anda memasukkan ungkapan dalam sesi interaktif, Python mencetak nilainya pada baris berikut, seperti yang ditunjukkan."
      ],
      "metadata": {
        "id": "FE6ezoqSlNTY"
      }
    },
    {
      "cell_type": "markdown",
      "source": [
        "**Penafsir. (Intepreter)**\n",
        "\n",
        "Menilai ungkapan majmuk memerlukan prosedur tepat yang mentafsir kod dengan cara yang boleh diramal. Program yang melaksanakan prosedur sedemikian, menilai ungkapan dan pernyataan majmuk, dipanggil penafsir. Reka bentuk dan pelaksanaan penfsir adalah topik utama Bab 3.\n",
        "\n",
        "Jika dibandingkan dengan atur cara komputer lain, jurubahasa untuk bahasa pengaturcaraan adalah unik dari segi umumnya. Python tidak direka dengan Shakespeare atau palindrom dalam fikiran. Walau bagaimanapun, fleksibiliti hebatnya membolehkan kami memproses sejumlah besar teks dengan hanya beberapa baris kod.\n",
        "\n",
        "Pada akhirnya, kita akan mendapati bahawa semua konsep teras ini berkait rapat: fungsi ialah objek, objek ialah fungsi, dan penterjemah ialah contoh kedua-duanya. Walau bagaimanapun, membangunkan pemahaman yang jelas tentang setiap konsep ini dan peranannya dalam menyusun kod adalah penting untuk menguasai seni pengaturcaraan."
      ],
      "metadata": {
        "id": "ucqwRZ2gmBq5"
      }
    },
    {
      "cell_type": "markdown",
      "source": [
        "**1.1.5 Panduan Praktikal: Ralat (Error)**\n",
        "\n",
        "Python sedang menunggu arahan anda. Anda digalakkan untuk mencuba bahasa tersebut, walaupun anda mungkin belum mengetahui perbendaharaan kata dan struktur penuhnya. Walau bagaimanapun, bersedia untuk kesilapan. Walaupun komputer sangat pantas dan fleksibel, ia juga sangat tegar. Sifat komputer diterangkan dalam kursus pengenalan Stanford sebagai:\n",
        "\n",
        ">Persamaan asas komputer ialah: komputer = berkuasa + bodoh\n",
        ">\n",
        ">Komputer sangat berkuasa, melihat volum data dengan cepat. Komputer boleh melakukan berbilion-bilion operasi sesaat, di mana setiap operasi adalah agak mudah.\n",
        ">\n",
        ">Komputer juga sangat bodoh dan rapuh. Operasi yang boleh mereka lakukan adalah sangat tegar, mudah dan mekanikal. Komputer tidak mempunyai apa-apa seperti wawasan sebenar. Ia tidak seperti HAL 9000 dari filem. Jika tiada apa-apa lagi, anda tidak sepatutnya takut dengan komputer seolah-olah ia adalah sejenis otak. Ia sangat mekanikal di bawah semuanya.\n",
        ">\n",
        ">Pengaturcaraan adalah tentang seseorang yang menggunakan pandangan sebenar mereka untuk membina sesuatu yang berguna, dibina daripada operasi kecil yang kecil dan mudah yang boleh dilakukan oleh komputer.\n",
        ">\n",
        ">— Francisco Cai dan Nick Parlante, Stanford CS101"
      ],
      "metadata": {
        "id": "nriaaBW3pWv2"
      }
    },
    {
      "cell_type": "markdown",
      "source": [
        "Ketegaran komputer serta-merta akan menjadi jelas semasa anda bereksperimen dengan penterjemah Python: walaupun perubahan ejaan dan pemformatan yang paling kecil akan menyebabkan output dan ralat yang tidak dijangka.\n",
        "\n",
        "Belajar untuk mentafsir ralat dan mendiagnosis punca ralat yang tidak dijangka dipanggil penyahpepijatan. Beberapa prinsip panduan penyahpepijatan ialah:\n",
        "\n",
        "1. **Uji secara berperingkat**: Setiap program yang ditulis dengan baik terdiri daripada komponen modular kecil yang boleh diuji secara individu. Uji semua yang anda tulis secepat mungkin untuk mengetahui ralat awal dan mendapatkan keyakinan dalam komponen anda.\n",
        "\n",
        "2. **Ralat asingkan**: Ralat dalam output atur cara, ungkapan atau pernyataan kompaun biasanya boleh dikaitkan dengan komponen modular tertentu. Apabila cuba mendiagnosis masalah, jejak ralat itu kepada serpihan kod terkecil yang anda boleh sebelum cuba membetulkannya.\n",
        "\n",
        "3. **Semak andaian anda**: Jurubahasa melaksanakan arahan anda kepada surat itu --- tidak lebih dan tidak kurang. Output mereka adalah tidak dijangka apabila tingkah laku sesetengah kod tidak sepadan dengan apa yang pengaturcara percaya (atau menganggap) tingkah laku itu. Ketahui andaian anda, kemudian tumpukan usaha penyahpepijatan anda pada mengesahkan bahawa andaian anda benar-benar berlaku.\n",
        "\n",
        "4. **Rujuk orang lain**: Anda tidak bersendirian! Jika anda tidak memahami mesej ralat, tanya rakan, pengajar atau enjin carian. Jika anda telah mengasingkan ralat, tetapi tidak dapat mengetahui cara membetulkannya, minta orang lain untuk melihatnya. Banyak pengetahuan pengaturcaraan yang berharga dikongsi dalam konteks penyelesaian masalah pasukan.\n",
        "\n",
        "Ujian tambahan, reka bentuk modular, andaian yang tepat, dan kerja berpasukan adalah tema yang berterusan sepanjang kursus ini. Mudah-mudahan, mereka juga akan berterusan sepanjang kerjaya sains komputer anda."
      ],
      "metadata": {
        "id": "eSXutQwBp1Q_"
      }
    }
  ]
}