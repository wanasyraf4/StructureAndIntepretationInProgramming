{
  "nbformat": 4,
  "nbformat_minor": 0,
  "metadata": {
    "colab": {
      "provenance": [],
      "authorship_tag": "ABX9TyNFNXog8WmNzH9kvTkVBxvc",
      "include_colab_link": true
    },
    "kernelspec": {
      "name": "python3",
      "display_name": "Python 3"
    },
    "language_info": {
      "name": "python"
    }
  },
  "cells": [
    {
      "cell_type": "markdown",
      "metadata": {
        "id": "view-in-github",
        "colab_type": "text"
      },
      "source": [
        "<a href=\"https://colab.research.google.com/github/wanasyraf4/StructureAndIntepretationInProgramming/blob/main/Chapter_1_1_3.ipynb\" target=\"_parent\"><img src=\"https://colab.research.google.com/assets/colab-badge.svg\" alt=\"Open In Colab\"/></a>"
      ]
    },
    {
      "cell_type": "markdown",
      "source": [
        "#1.3 Defining New Functions\n",
        "\n",
        "\n",
        "---\n",
        "\n",
        "\n",
        "We have identified in Python some of the elements that must appear in any powerful programming language:\n",
        "\n",
        "1. Numbers and arithmetic operations are built-in data and functions.\n",
        "2. Nested function application provides a means of combining operations.\n",
        "3. Binding names to values provides a limited means of abstraction.\n",
        "\n",
        "Now we will learn about *function definitions*, a much more powerful abstraction technique by which a name can be bound to compound operation, which can then be referred to as a unit.\n",
        "\n",
        "We begin by examining how to express the idea of \"squaring.\" We might say, \"To square something, multiply it by itself.\" This is expressed in Python as"
      ],
      "metadata": {
        "id": "fcjT1RZKxZC3"
      }
    },
    {
      "cell_type": "code",
      "source": [
        "from operator import add, sub, mul"
      ],
      "metadata": {
        "id": "-hObhLqd3dx3"
      },
      "execution_count": 17,
      "outputs": []
    },
    {
      "cell_type": "code",
      "execution_count": 18,
      "metadata": {
        "id": "clkEGbI3xSWI"
      },
      "outputs": [],
      "source": [
        "def square(x):\n",
        "  return mul(x,x)"
      ]
    },
    {
      "cell_type": "markdown",
      "source": [
        "which defines a new function that has been given the name `square`. This user-defined function is not built into the interpreter. It represents the compound operation of multiplying something by itself. The `x` in this definition is called a *formal parameter*, which provides a name for the thing to be multiplied. The definition creates this user-defined function and associates it with the name `square`.\n",
        "\n",
        "Function definitions consist of a def statement that indicates a `<name>` and a list of named `<formal parameters>`, then a `return` statement, called the function body, that specifies the `<return expression> `of the function, which is an expression to be evaluated whenever the function is applied."
      ],
      "metadata": {
        "id": "NzAtGiydxyZu"
      }
    },
    {
      "cell_type": "markdown",
      "source": [
        ">`def <name>(<formal parameters>):`\n",
        ">\n",
        ">`return <return expression>`"
      ],
      "metadata": {
        "id": "7AtYhM85yMJs"
      }
    },
    {
      "cell_type": "markdown",
      "source": [
        "The second line *must* be indented! Convention dictates that we indent with four spaces, rather than a tab. The return expression is not evaluated right away; it is stored as part of the newly defined function and evaluated only when the function is eventually applied. (Soon, we will see that the indented region can span multiple lines.)\n",
        "\n",
        "Having defined `square`, we can apply it with a call expression:"
      ],
      "metadata": {
        "id": "udJQNtR7yUC7"
      }
    },
    {
      "cell_type": "code",
      "source": [
        "square(2)"
      ],
      "metadata": {
        "colab": {
          "base_uri": "https://localhost:8080/"
        },
        "id": "Dwnvaeshy49N",
        "outputId": "0f2c1e6a-b715-410b-8b20-e51e366c9903"
      },
      "execution_count": 19,
      "outputs": [
        {
          "output_type": "execute_result",
          "data": {
            "text/plain": [
              "4"
            ]
          },
          "metadata": {},
          "execution_count": 19
        }
      ]
    },
    {
      "cell_type": "code",
      "source": [
        "square(add(2,5))"
      ],
      "metadata": {
        "colab": {
          "base_uri": "https://localhost:8080/"
        },
        "id": "cVo8TGeoy6nL",
        "outputId": "88087121-cdd1-4ac5-c17b-65f1ff6360f4"
      },
      "execution_count": 20,
      "outputs": [
        {
          "output_type": "execute_result",
          "data": {
            "text/plain": [
              "49"
            ]
          },
          "metadata": {},
          "execution_count": 20
        }
      ]
    },
    {
      "cell_type": "code",
      "source": [
        "square(square(3))"
      ],
      "metadata": {
        "colab": {
          "base_uri": "https://localhost:8080/"
        },
        "id": "Be_mZk5_y-_k",
        "outputId": "736018a9-ffe4-4bc1-f08a-9539f02b1d1c"
      },
      "execution_count": 21,
      "outputs": [
        {
          "output_type": "execute_result",
          "data": {
            "text/plain": [
              "81"
            ]
          },
          "metadata": {},
          "execution_count": 21
        }
      ]
    },
    {
      "cell_type": "markdown",
      "source": [
        "User-defined functions are used in exactly the same way as built-in functions. Indeed, one cannot tell from the definition of `sum_squares` whether `square` is built into the interpreter, imported from a module, or defined by the user."
      ],
      "metadata": {
        "id": "8UcivMAtzDBb"
      }
    },
    {
      "cell_type": "markdown",
      "source": [
        "**1.3.1 Environments**\n",
        "\n",
        "\n",
        "---\n",
        "\n",
        "\n",
        "Our subset of Python is now complex enough that the meaning of programs is non-obvious. What if a formal parameter has the same name as a built-in function? Can two functions share names without confusion? To resolve such questions, we must describe environments in more detail.\n",
        "\n",
        "An environment in which an expression is evaluated consists of a sequence of *frames*, depicted as boxes. Each frame contains bindings, which associate a name with its corresponding value. There is a single *global* frame that contains name bindings for all built-in functions (only `abs` and `max` are shown). We indicate the global frame with a globe symbol.\n",
        "\n",
        "\n",
        "\n",
        "Assignment and import statements add entries to the first frame of the current environment. So far, our environment consists only of the global frame."
      ],
      "metadata": {
        "id": "NncjayArzLTj"
      }
    },
    {
      "cell_type": "code",
      "source": [
        "from math import pi\n",
        "tau = 2*pi\n",
        "tau"
      ],
      "metadata": {
        "colab": {
          "base_uri": "https://localhost:8080/"
        },
        "id": "4CMowLiPzbaj",
        "outputId": "08758103-a6e6-4721-ffd6-2253435b447e"
      },
      "execution_count": 5,
      "outputs": [
        {
          "output_type": "execute_result",
          "data": {
            "text/plain": [
              "6.283185307179586"
            ]
          },
          "metadata": {},
          "execution_count": 5
        }
      ]
    },
    {
      "cell_type": "markdown",
      "source": [
        "A `def` statement also binds a name to the function created by the definition. The resulting environment after defining `square` appears below:"
      ],
      "metadata": {
        "id": "a-vXYHfe1s85"
      }
    },
    {
      "cell_type": "code",
      "source": [
        "def tau():\n",
        "  return 2*pi\n",
        "\n",
        "tau()"
      ],
      "metadata": {
        "colab": {
          "base_uri": "https://localhost:8080/"
        },
        "id": "e7dRyNbf13Ko",
        "outputId": "dfab0db5-ad05-4d74-d1dd-d9433bc47352"
      },
      "execution_count": 4,
      "outputs": [
        {
          "output_type": "execute_result",
          "data": {
            "text/plain": [
              "6.283185307179586"
            ]
          },
          "metadata": {},
          "execution_count": 4
        }
      ]
    },
    {
      "cell_type": "markdown",
      "source": [
        "These *environment* diagrams show the bindings of the current environment, along with the values (which are not part of any frame) to which names are bound. Notice that the name of a function is repeated, once in the frame, and once as part of the function itself. This repetition is intentional: many different names may refer to the same function, but that function itself has only one intrinsic name. However, looking up the value for a name in an environment only inspects name bindings. The intrinsic name of a function **does not** play a role in looking up names. In the example we saw earlier,"
      ],
      "metadata": {
        "id": "ejPOcDOL13dI"
      }
    },
    {
      "cell_type": "code",
      "source": [
        "f = max\n",
        "f"
      ],
      "metadata": {
        "colab": {
          "base_uri": "https://localhost:8080/"
        },
        "id": "MAaNUqAQ4c4N",
        "outputId": "eedd6a3e-fb44-49d4-9834-bc506f757d5b"
      },
      "execution_count": 22,
      "outputs": [
        {
          "output_type": "execute_result",
          "data": {
            "text/plain": [
              "<function max>"
            ]
          },
          "metadata": {},
          "execution_count": 22
        }
      ]
    },
    {
      "cell_type": "markdown",
      "source": [
        "The name *max* is the intrinsic name of the function, and that's what you see printed as the value for `f`. In addition, both the names `max` and `f` are bound to that same function in the global environment.\n",
        "\n",
        "As we proceed to introduce additional features of Python, we will have to extend these diagrams. Every time we do, we will list the new features that our diagrams can express.\n",
        "\n",
        "**New environment Features:** Assignment and user-defined function definition."
      ],
      "metadata": {
        "id": "X1sOyMIM4ri1"
      }
    },
    {
      "cell_type": "markdown",
      "source": [
        "**1.3.2 Calling User-Defined Functions**\n",
        "\n",
        "\n",
        "---\n",
        "\n",
        "\n",
        "To evaluate a call expression whose operator names a user-defined function, the Python interpreter follows a process similar to the one for evaluating expressions with a built-in operator function. That is, the interpreter evaluates the operand expressions, and then applies the named function to the resulting arguments.\n",
        "\n",
        "The act of applying a user-defined function introduces a second *local frame*, which is only accessible to that function. To apply a user-defined function to some arguments:\n",
        "\n",
        "1. Bind the arguments to the names of the function's formal parameters in a new local frame.\n",
        "2. Evaluate the body of the function in the environment beginning at that frame and ending at the global frame.\n",
        "\n",
        "The environment in which the body is evaluated consists of two frames: first the local frame that contains argument bindings, then the global frame that contains everything else. Each instance of a function application has its own independent local frame."
      ],
      "metadata": {
        "id": "Wq3ip0sG40i9"
      }
    },
    {
      "cell_type": "markdown",
      "source": [
        "This figure includes two different aspects of the Python interpreter: the current environment, and a part of the expression tree related to the current line of code being evaluated. We have depicted the evaluation of a call expression that has a user-defined function (in blue) as a two-part rounded rectangle. Dotted arrows indicate which environment is used to evaluate the expression in each part.\n",
        "\n",
        "* The top half shows the call expression being evaluated. This call expression is not internal to any function, so it is evaluated in the global environment. Thus, any names within it (such as `square`) are looked up in the global frame.\n",
        "* The bottom half shows the body of the `square` function. Its return expression is evaluated in the new environment introduced by step 1 above, which binds the name of `square`'s formal parameter `x` to the value of its argument, `-2`.\n",
        "\n",
        "The order of frames in an environment affects the value returned by looking up a name in an expression. We stated previously that a name is evaluated to the value associated with that name in the current environment. We can now be more precise:\n",
        "\n",
        "* A name evaluates to the value bound to that name in the earliest frame of the current environment in which that name is found.\n",
        "\n",
        "Our conceptual framework of environments, names, and functions constitutes a *model of evaluation*; while some mechanical details are still unspecified (e.g., how a binding is implemented), our model does precisely and correctly describe how the interpreter evaluates call expressions. In Chapter 3 we shall see how this model can serve as a blueprint for implementing a working interpreter for a programming language.\n",
        "\n",
        "**New environment Feature:** Function application."
      ],
      "metadata": {
        "id": "eyjgxeA15DjN"
      }
    },
    {
      "cell_type": "markdown",
      "source": [
        "**1.3.3 Example: Calling a User-Defined Function**\n",
        "\n",
        "\n",
        "---\n",
        "\n",
        "\n",
        "Let us again consider our two simple definitions:"
      ],
      "metadata": {
        "id": "kwbtpXYS5g7F"
      }
    },
    {
      "cell_type": "code",
      "source": [
        "from operator import add, mul"
      ],
      "metadata": {
        "id": "biWlhZ1k5jmD"
      },
      "execution_count": 23,
      "outputs": []
    },
    {
      "cell_type": "code",
      "source": [
        "def square(x):\n",
        "        return mul(x, x)"
      ],
      "metadata": {
        "id": "fkipzPMZ5pIU"
      },
      "execution_count": 24,
      "outputs": []
    },
    {
      "cell_type": "code",
      "source": [
        "def sum_squares(x, y):\n",
        "        return add(square(x), square(y))"
      ],
      "metadata": {
        "id": "UWkD7DzP5ppr"
      },
      "execution_count": 25,
      "outputs": []
    },
    {
      "cell_type": "markdown",
      "source": [
        "And the process that evaluates the following call expression:"
      ],
      "metadata": {
        "id": "7mKV5O9w5sm3"
      }
    },
    {
      "cell_type": "code",
      "source": [
        "sum_squares(5, 12)"
      ],
      "metadata": {
        "colab": {
          "base_uri": "https://localhost:8080/"
        },
        "id": "M6oCAMNw5u40",
        "outputId": "522395c8-f9c2-4075-a910-f4d25535cb58"
      },
      "execution_count": 26,
      "outputs": [
        {
          "output_type": "execute_result",
          "data": {
            "text/plain": [
              "169"
            ]
          },
          "metadata": {},
          "execution_count": 26
        }
      ]
    },
    {
      "cell_type": "markdown",
      "source": [
        "Python first evaluates the name `sum_squares`, which is bound to a user-defined function in the global frame. The primitive numeric expressions 5 and 12 evaluate to the numbers they represent.\n",
        "\n",
        "Next, Python applies `sum_squares`, which introduces a local frame that binds x to 5 and y to 12.\n",
        "\n",
        "In this diagram, the local frame points to its successor, the global frame. All local frames must point to a predecessor, and these links define the sequence of frames that is the current environment.\n",
        "\n",
        "The body of `sum_squares` contains this call expression:"
      ],
      "metadata": {
        "id": "mExdPHk07ZKS"
      }
    },
    {
      "cell_type": "markdown",
      "source": [
        "![image.png](data:image/png;base64,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)"
      ],
      "metadata": {
        "id": "foBWkzNW7doS"
      }
    },
    {
      "cell_type": "markdown",
      "source": [
        "All three subexpressions are evalauted in the current environment, which begins with the frame labeled *sum_squares*. The operator subexpression `add` is a name found in the global frame, bound to the built-in function for addition. The two operand subexpressions must be evaluated in turn, before addition is applied. Both operands are evaluated in the current environment beginning with the frame labeled `sum_squares`. In the following environment diagrams, we will call this frame A and replace arrows pointing to this frame with the label A as well.\n",
        "\n",
        "In `operand` 0, `square` names a user-defined function in the global frame, while `x` names the number `5` in the local frame. Python applies `square` to 5 by introducing yet another local frame that binds `x` to `5`."
      ],
      "metadata": {
        "id": "_GSwjAEV71JZ"
      }
    },
    {
      "cell_type": "markdown",
      "source": [
        "Using this local frame, the body expression `mul(x, x)` evaluates to `25`.\n",
        "\n",
        "Our evaluation procedure now turns to `operand 1`, for which y names the number 12. Python evaluates the body of `square` again, this time introducing yet another local environment frame that binds `x` to 12. Hence, `operand` 1 evaluates to 144.\n",
        "\n",
        "Finally, applying addition to the arguments 25 and 144 yields a final value for the body of `sum_squares`: 169.\n",
        "\n",
        "This figure, while complex, serves to illustrate many of the fundamental ideas we have developed so far. Names are bound to values, which spread across many local frames that all precede a single global frame that contains shared names. Expressions are tree-structured, and the environment must be augmented each time a subexpression contains a call to a user-defined function.\n",
        "\n",
        "All of this machinery exists to ensure that names resolve to the correct values at the correct points in the expression tree. This example illustrates why our model requires the complexity that we have introduced. All three local frames contain a binding for the name `x`, but that name is bound to different values in different frames. Local frames keep these names separate."
      ],
      "metadata": {
        "id": "c81Om9b08L7z"
      }
    },
    {
      "cell_type": "markdown",
      "source": [
        "**1.3.4 Local Names**\n",
        "\n",
        "\n",
        "---\n",
        "\n",
        "\n",
        "One detail of a function's implementation that should not affect the function's behavior is the implementer's choice of names for the function's formal parameters. Thus, the following functions should provide the same behavior:"
      ],
      "metadata": {
        "id": "N-5vTLLj8pVA"
      }
    },
    {
      "cell_type": "code",
      "source": [
        "def square(x):\n",
        "        return mul(x, x)"
      ],
      "metadata": {
        "id": "dWowRxXq80JB"
      },
      "execution_count": 27,
      "outputs": []
    },
    {
      "cell_type": "code",
      "source": [
        "def square(y):\n",
        "        return mul(y, y)"
      ],
      "metadata": {
        "id": "-S4mPCmE85hC"
      },
      "execution_count": 28,
      "outputs": []
    },
    {
      "cell_type": "markdown",
      "source": [
        "This principle -- that the meaning of a function should be independent of the parameter names chosen by its author -- has important consequences for programming languages. The simplest consequence is that the parameter names of a function must remain local to the body of the function.\n",
        "\n",
        "If the parameters were not local to the bodies of their respective functions, then the parameter `x` in `square` could be confused with the parameter `x` in `sum_squares`. Critically, this is not the case: the binding for `x` in different local frames are unrelated. Our model of computation is carefully designed to ensure this independence.\n",
        "\n",
        "We say that the scope of a local name is limited to the body of the user-defined function that defines it. When a name is no longer accessible, it is out of scope. This scoping behavior isn't a new fact about our model; it is a consequence of the way environments work."
      ],
      "metadata": {
        "id": "hlucr5YO8zkq"
      }
    },
    {
      "cell_type": "markdown",
      "source": [
        "**1.3.5 Practical Guidance: Choosing Names**\n",
        "\n",
        "\n",
        "---\n",
        "\n",
        "\n",
        "The interchangeabily of names does not imply that formal parameter names do not matter at all. To the contrary, well-chosen function and parameter names are essential for the human interpretability of function definitions!\n",
        "\n",
        "The following guidelines are adapted from the style guide for Python code, which serves as a guide for all (non-rebellious) Python programmers. A shared set of conventions smooths communication among members of a programming community. As a side effect of following these conventions, you will find that your code becomes more internally consistent.\n",
        "\n",
        "1. Function names should be lowercase, with words separated by underscores. Descriptive names are encouraged.\n",
        "2. Function names typically evoke operations applied to arguments by the interpreter (e.g., print, add, square) or the name of the quantity that results (e.g., max, abs, sum).\n",
        "3. Parameter names should be lowercase, with words separated by underscores. Single-word names are preferred.\n",
        "4. Parameter names should evoke the role of the parameter in the function, not just the type of value that is allowed.\n",
        "5. Single letter parameter names are acceptable when their role is obvious, but never use \"l\" (lowercase ell), \"O\" (capital oh), or \"I\" (capital i) to avoid confusion with numerals.\n",
        "\n",
        "Review these guidelines periodically as you write programs, and soon your names will be delightfully Pythonic."
      ],
      "metadata": {
        "id": "QSOSMQdR9DvA"
      }
    },
    {
      "cell_type": "markdown",
      "source": [
        "**1.3.6 Functions as Abstractions**\n",
        "\n",
        "\n",
        "---\n",
        "\n",
        "\n",
        "Though it is very simple, `sum_squares` exemplifies the most powerful property of user-defined functions. The function `sum_squares` is defined in terms of the function `square`, but relies only on the relationship that `square` defines between its input arguments and its output values.\n",
        "\n",
        "We can write `sum_squares` without concerning ourselves with how to square a number. The details of how the square is computed can be suppressed, to be considered at a later time. Indeed, as far as `sum_squares` is concerned, `square` is not a particular function body, but rather an abstraction of a function, a so-called functional abstraction. At this level of abstraction, any function that computes the square is equally good.\n",
        "\n",
        "Thus, considering only the values they return, the following two functions for squaring a number should be indistinguishable. Each takes a numerical argument and produces the square of that number as the value."
      ],
      "metadata": {
        "id": "cPe7-nrZ9UjQ"
      }
    },
    {
      "cell_type": "code",
      "source": [
        "def square(x):\n",
        "        return mul(x, x)"
      ],
      "metadata": {
        "id": "SP-c8LcC92Xf"
      },
      "execution_count": 29,
      "outputs": []
    },
    {
      "cell_type": "code",
      "source": [
        "square(2)"
      ],
      "metadata": {
        "colab": {
          "base_uri": "https://localhost:8080/"
        },
        "id": "-dC7qakx95zX",
        "outputId": "939eb298-3150-4869-f5c7-27878e7dcb26"
      },
      "execution_count": 30,
      "outputs": [
        {
          "output_type": "execute_result",
          "data": {
            "text/plain": [
              "4"
            ]
          },
          "metadata": {},
          "execution_count": 30
        }
      ]
    },
    {
      "cell_type": "code",
      "source": [
        "def square(x):\n",
        "        return mul(x, x-1) + x"
      ],
      "metadata": {
        "id": "4TleWkT199JD"
      },
      "execution_count": 36,
      "outputs": []
    },
    {
      "cell_type": "code",
      "source": [
        "square(3)"
      ],
      "metadata": {
        "colab": {
          "base_uri": "https://localhost:8080/"
        },
        "id": "vR5Qlo6H99xf",
        "outputId": "367504ca-17a8-4c19-e05c-f8c8a94e74c0"
      },
      "execution_count": 37,
      "outputs": [
        {
          "output_type": "execute_result",
          "data": {
            "text/plain": [
              "9"
            ]
          },
          "metadata": {},
          "execution_count": 37
        }
      ]
    },
    {
      "cell_type": "markdown",
      "source": [
        "In other words, a function definition should be able to suppress details. The users of the function may not have written the function themselves, but may have obtained it from another programmer as a \"black box\". A user should not need to know how the function is implemented in order to use it. The Python Library has this property. Many developers use the functions defined there, but few ever inspect their implementation. In fact, many implementations of Python Library functions are not written in Python at all, but instead in the C language."
      ],
      "metadata": {
        "id": "3G64QcnU-XW-"
      }
    },
    {
      "cell_type": "markdown",
      "source": [
        "**1.3.7 Operators**\n",
        "\n",
        "---\n",
        "\n",
        "\n",
        "Mathematical operators (like `+` and `-`) provided our first example of a method of combination, but we have yet to define an evaluation procedure for expressions that contain these operators.\n",
        "\n",
        "Python expressions with infix operators each have their own evaluation procedures, but you can often think of them as short-hand for call expressions. When you see"
      ],
      "metadata": {
        "id": "rCREH4RD-ZWP"
      }
    },
    {
      "cell_type": "code",
      "source": [
        "2 + 3"
      ],
      "metadata": {
        "colab": {
          "base_uri": "https://localhost:8080/"
        },
        "id": "t5dQ0_rO-emm",
        "outputId": "a9e5c525-a38b-446b-a00e-608f8d6c4b8c"
      },
      "execution_count": 38,
      "outputs": [
        {
          "output_type": "execute_result",
          "data": {
            "text/plain": [
              "5"
            ]
          },
          "metadata": {},
          "execution_count": 38
        }
      ]
    },
    {
      "cell_type": "markdown",
      "source": [
        "simply consider it to be short-hand for"
      ],
      "metadata": {
        "id": "T67GmRWW-i04"
      }
    },
    {
      "cell_type": "code",
      "source": [
        "add(2,3)"
      ],
      "metadata": {
        "colab": {
          "base_uri": "https://localhost:8080/"
        },
        "id": "e9SO7TwY-ji-",
        "outputId": "5bfefb8c-c786-4167-a177-004b2f0789ea"
      },
      "execution_count": 39,
      "outputs": [
        {
          "output_type": "execute_result",
          "data": {
            "text/plain": [
              "5"
            ]
          },
          "metadata": {},
          "execution_count": 39
        }
      ]
    },
    {
      "cell_type": "markdown",
      "source": [
        "Infix notation can be nested, just like call expressions. Python applies the normal mathematical rules of operator precedence, which dictate how to interpret a compound expression with multiple operators."
      ],
      "metadata": {
        "id": "oSWwr8tM_L9m"
      }
    },
    {
      "cell_type": "code",
      "source": [
        "2 + 3 * 4 + 5"
      ],
      "metadata": {
        "colab": {
          "base_uri": "https://localhost:8080/"
        },
        "id": "aJXC_dU8_NcG",
        "outputId": "8563cc3b-de4b-46b8-c2ca-dd53636ad4e3"
      },
      "execution_count": 40,
      "outputs": [
        {
          "output_type": "execute_result",
          "data": {
            "text/plain": [
              "19"
            ]
          },
          "metadata": {},
          "execution_count": 40
        }
      ]
    },
    {
      "cell_type": "markdown",
      "source": [
        "evaluates to the same result as"
      ],
      "metadata": {
        "id": "B8_YSYMa_QIW"
      }
    },
    {
      "cell_type": "code",
      "source": [
        "add(add(2, mul(3, 4)) , 5)"
      ],
      "metadata": {
        "colab": {
          "base_uri": "https://localhost:8080/"
        },
        "id": "ZTcyApgo_Q0e",
        "outputId": "c1da73c6-e350-4e07-cae9-c413b205dd61"
      },
      "execution_count": 41,
      "outputs": [
        {
          "output_type": "execute_result",
          "data": {
            "text/plain": [
              "19"
            ]
          },
          "metadata": {},
          "execution_count": 41
        }
      ]
    },
    {
      "cell_type": "markdown",
      "source": [
        "The nesting in the call expression is more explicit than the operator version. Python also allows subexpression grouping with parentheses, to override the normal precedence rules or make the nested structure of an expression more explicit."
      ],
      "metadata": {
        "id": "Prwya2di_TL-"
      }
    },
    {
      "cell_type": "code",
      "source": [
        "(2 + 3) * (4 + 5)"
      ],
      "metadata": {
        "colab": {
          "base_uri": "https://localhost:8080/"
        },
        "id": "4WM9C14q_VCG",
        "outputId": "7a7a1733-f071-4711-e1e1-4af0be914fd3"
      },
      "execution_count": 42,
      "outputs": [
        {
          "output_type": "execute_result",
          "data": {
            "text/plain": [
              "45"
            ]
          },
          "metadata": {},
          "execution_count": 42
        }
      ]
    },
    {
      "cell_type": "markdown",
      "source": [
        "evaluates to the same result as"
      ],
      "metadata": {
        "id": "bKkrmBal_Y3n"
      }
    },
    {
      "cell_type": "code",
      "source": [
        "mul(add(2, 3), add(4, 5))"
      ],
      "metadata": {
        "colab": {
          "base_uri": "https://localhost:8080/"
        },
        "id": "zxTCheVo_ZTm",
        "outputId": "41d0d2bb-1ebc-4da7-bbea-125d34730979"
      },
      "execution_count": 43,
      "outputs": [
        {
          "output_type": "execute_result",
          "data": {
            "text/plain": [
              "45"
            ]
          },
          "metadata": {},
          "execution_count": 43
        }
      ]
    },
    {
      "cell_type": "markdown",
      "source": [
        "You should feel free to use these operators and parentheses in your programs. Idiomatic Python prefers operators over call expressions for simple mathematical operations."
      ],
      "metadata": {
        "id": "qH71TmbR_d0W"
      }
    }
  ]
}